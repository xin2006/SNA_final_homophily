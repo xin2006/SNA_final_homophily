{
 "cells": [
  {
   "cell_type": "markdown",
   "id": "bbc7dbde",
   "metadata": {},
   "source": [
    "# Yelp frienship networks\n",
    "The jupyter notebook mainly consists of two parts:  \n",
    "(1) Clean the data given by Yelp  \n",
    "(2) Construct ego-networks of friendship  "
   ]
  },
  {
   "cell_type": "code",
   "execution_count": 60,
   "id": "1d589200",
   "metadata": {},
   "outputs": [],
   "source": [
    "import json, csv\n",
    "import pandas as pd\n",
    "import numpy as np"
   ]
  },
  {
   "cell_type": "markdown",
   "id": "b43145c3",
   "metadata": {},
   "source": [
    "## Import the dataset"
   ]
  },
  {
   "cell_type": "code",
   "execution_count": 11,
   "id": "5f197cdc",
   "metadata": {},
   "outputs": [],
   "source": [
    "users = []\n",
    "with open('yelp_academic_dataset_user.json') as fl:\n",
    "    for i, line in enumerate(fl):\n",
    "        users.append(json.loads(line))\n",
    "df = pd.DataFrame(users)"
   ]
  },
  {
   "cell_type": "code",
   "execution_count": 12,
   "id": "ad6cabf6",
   "metadata": {},
   "outputs": [
    {
     "data": {
      "text/plain": [
       "Index(['user_id', 'name', 'review_count', 'yelping_since', 'useful', 'funny',\n",
       "       'cool', 'elite', 'friends', 'fans', 'average_stars', 'compliment_hot',\n",
       "       'compliment_more', 'compliment_profile', 'compliment_cute',\n",
       "       'compliment_list', 'compliment_note', 'compliment_plain',\n",
       "       'compliment_cool', 'compliment_funny', 'compliment_writer',\n",
       "       'compliment_photos'],\n",
       "      dtype='object')"
      ]
     },
     "execution_count": 12,
     "metadata": {},
     "output_type": "execute_result"
    }
   ],
   "source": [
    "df.columns"
   ]
  },
  {
   "cell_type": "code",
   "execution_count": 61,
   "id": "1911be9f",
   "metadata": {
    "scrolled": true
   },
   "outputs": [
    {
     "data": {
      "text/html": [
       "<div>\n",
       "<style scoped>\n",
       "    .dataframe tbody tr th:only-of-type {\n",
       "        vertical-align: middle;\n",
       "    }\n",
       "\n",
       "    .dataframe tbody tr th {\n",
       "        vertical-align: top;\n",
       "    }\n",
       "\n",
       "    .dataframe thead th {\n",
       "        text-align: right;\n",
       "    }\n",
       "</style>\n",
       "<table border=\"1\" class=\"dataframe\">\n",
       "  <thead>\n",
       "    <tr style=\"text-align: right;\">\n",
       "      <th></th>\n",
       "      <th>user_id</th>\n",
       "      <th>name</th>\n",
       "      <th>review_count</th>\n",
       "      <th>yelping_since</th>\n",
       "      <th>useful</th>\n",
       "      <th>funny</th>\n",
       "      <th>cool</th>\n",
       "      <th>elite</th>\n",
       "      <th>friends</th>\n",
       "      <th>fans</th>\n",
       "      <th>...</th>\n",
       "      <th>compliment_profile</th>\n",
       "      <th>compliment_cute</th>\n",
       "      <th>compliment_list</th>\n",
       "      <th>compliment_note</th>\n",
       "      <th>compliment_plain</th>\n",
       "      <th>compliment_cool</th>\n",
       "      <th>compliment_funny</th>\n",
       "      <th>compliment_writer</th>\n",
       "      <th>compliment_photos</th>\n",
       "      <th>friend_count</th>\n",
       "    </tr>\n",
       "  </thead>\n",
       "  <tbody>\n",
       "    <tr>\n",
       "      <th>0</th>\n",
       "      <td>qVc8ODYU5SZjKXVBgXdI7w</td>\n",
       "      <td>Walker</td>\n",
       "      <td>585</td>\n",
       "      <td>2007-01-25 16:47:26</td>\n",
       "      <td>7217</td>\n",
       "      <td>1259</td>\n",
       "      <td>5994</td>\n",
       "      <td>2007</td>\n",
       "      <td>NSCy54eWehBJyZdG2iE84w, pe42u7DcCH2QmI81NX-8qA...</td>\n",
       "      <td>267</td>\n",
       "      <td>...</td>\n",
       "      <td>55</td>\n",
       "      <td>56</td>\n",
       "      <td>18</td>\n",
       "      <td>232</td>\n",
       "      <td>844</td>\n",
       "      <td>467</td>\n",
       "      <td>467</td>\n",
       "      <td>239</td>\n",
       "      <td>180</td>\n",
       "      <td>14995</td>\n",
       "    </tr>\n",
       "    <tr>\n",
       "      <th>1</th>\n",
       "      <td>j14WgRoU_-2ZE1aw1dXrJg</td>\n",
       "      <td>Daniel</td>\n",
       "      <td>4333</td>\n",
       "      <td>2009-01-25 04:35:42</td>\n",
       "      <td>43091</td>\n",
       "      <td>13066</td>\n",
       "      <td>27281</td>\n",
       "      <td>2009,2010,2011,2012,2013,2014,2015,2016,2017,2...</td>\n",
       "      <td>ueRPE0CX75ePGMqOFVj6IQ, 52oH4DrRvzzl8wh5UXyU0A...</td>\n",
       "      <td>3138</td>\n",
       "      <td>...</td>\n",
       "      <td>184</td>\n",
       "      <td>157</td>\n",
       "      <td>251</td>\n",
       "      <td>1847</td>\n",
       "      <td>7054</td>\n",
       "      <td>3131</td>\n",
       "      <td>3131</td>\n",
       "      <td>1521</td>\n",
       "      <td>1946</td>\n",
       "      <td>4646</td>\n",
       "    </tr>\n",
       "    <tr>\n",
       "      <th>2</th>\n",
       "      <td>2WnXYQFK0hXEoTxPtV2zvg</td>\n",
       "      <td>Steph</td>\n",
       "      <td>665</td>\n",
       "      <td>2008-07-25 10:41:00</td>\n",
       "      <td>2086</td>\n",
       "      <td>1010</td>\n",
       "      <td>1003</td>\n",
       "      <td>2009,2010,2011,2012,2013</td>\n",
       "      <td>LuO3Bn4f3rlhyHIaNfTlnA, j9B4XdHUhDfTKVecyWQgyA...</td>\n",
       "      <td>52</td>\n",
       "      <td>...</td>\n",
       "      <td>10</td>\n",
       "      <td>17</td>\n",
       "      <td>3</td>\n",
       "      <td>66</td>\n",
       "      <td>96</td>\n",
       "      <td>119</td>\n",
       "      <td>119</td>\n",
       "      <td>35</td>\n",
       "      <td>18</td>\n",
       "      <td>381</td>\n",
       "    </tr>\n",
       "    <tr>\n",
       "      <th>3</th>\n",
       "      <td>SZDeASXq7o05mMNLshsdIA</td>\n",
       "      <td>Gwen</td>\n",
       "      <td>224</td>\n",
       "      <td>2005-11-29 04:38:33</td>\n",
       "      <td>512</td>\n",
       "      <td>330</td>\n",
       "      <td>299</td>\n",
       "      <td>2009,2010,2011</td>\n",
       "      <td>enx1vVPnfdNUdPho6PH_wg, 4wOcvMLtU6a9Lslggq74Vg...</td>\n",
       "      <td>28</td>\n",
       "      <td>...</td>\n",
       "      <td>1</td>\n",
       "      <td>6</td>\n",
       "      <td>2</td>\n",
       "      <td>12</td>\n",
       "      <td>16</td>\n",
       "      <td>26</td>\n",
       "      <td>26</td>\n",
       "      <td>10</td>\n",
       "      <td>9</td>\n",
       "      <td>131</td>\n",
       "    </tr>\n",
       "    <tr>\n",
       "      <th>4</th>\n",
       "      <td>hA5lMy-EnncsH4JoR-hFGQ</td>\n",
       "      <td>Karen</td>\n",
       "      <td>79</td>\n",
       "      <td>2007-01-05 19:40:59</td>\n",
       "      <td>29</td>\n",
       "      <td>15</td>\n",
       "      <td>7</td>\n",
       "      <td></td>\n",
       "      <td>PBK4q9KEEBHhFvSXCUirIw, 3FWPpM7KU1gXeOM_ZbYMbA...</td>\n",
       "      <td>1</td>\n",
       "      <td>...</td>\n",
       "      <td>0</td>\n",
       "      <td>0</td>\n",
       "      <td>0</td>\n",
       "      <td>1</td>\n",
       "      <td>1</td>\n",
       "      <td>0</td>\n",
       "      <td>0</td>\n",
       "      <td>0</td>\n",
       "      <td>0</td>\n",
       "      <td>27</td>\n",
       "    </tr>\n",
       "  </tbody>\n",
       "</table>\n",
       "<p>5 rows × 23 columns</p>\n",
       "</div>"
      ],
      "text/plain": [
       "                  user_id    name  review_count        yelping_since  useful  \\\n",
       "0  qVc8ODYU5SZjKXVBgXdI7w  Walker           585  2007-01-25 16:47:26    7217   \n",
       "1  j14WgRoU_-2ZE1aw1dXrJg  Daniel          4333  2009-01-25 04:35:42   43091   \n",
       "2  2WnXYQFK0hXEoTxPtV2zvg   Steph           665  2008-07-25 10:41:00    2086   \n",
       "3  SZDeASXq7o05mMNLshsdIA    Gwen           224  2005-11-29 04:38:33     512   \n",
       "4  hA5lMy-EnncsH4JoR-hFGQ   Karen            79  2007-01-05 19:40:59      29   \n",
       "\n",
       "   funny   cool                                              elite  \\\n",
       "0   1259   5994                                               2007   \n",
       "1  13066  27281  2009,2010,2011,2012,2013,2014,2015,2016,2017,2...   \n",
       "2   1010   1003                           2009,2010,2011,2012,2013   \n",
       "3    330    299                                     2009,2010,2011   \n",
       "4     15      7                                                      \n",
       "\n",
       "                                             friends  fans  ...  \\\n",
       "0  NSCy54eWehBJyZdG2iE84w, pe42u7DcCH2QmI81NX-8qA...   267  ...   \n",
       "1  ueRPE0CX75ePGMqOFVj6IQ, 52oH4DrRvzzl8wh5UXyU0A...  3138  ...   \n",
       "2  LuO3Bn4f3rlhyHIaNfTlnA, j9B4XdHUhDfTKVecyWQgyA...    52  ...   \n",
       "3  enx1vVPnfdNUdPho6PH_wg, 4wOcvMLtU6a9Lslggq74Vg...    28  ...   \n",
       "4  PBK4q9KEEBHhFvSXCUirIw, 3FWPpM7KU1gXeOM_ZbYMbA...     1  ...   \n",
       "\n",
       "   compliment_profile  compliment_cute  compliment_list  compliment_note  \\\n",
       "0                  55               56               18              232   \n",
       "1                 184              157              251             1847   \n",
       "2                  10               17                3               66   \n",
       "3                   1                6                2               12   \n",
       "4                   0                0                0                1   \n",
       "\n",
       "   compliment_plain  compliment_cool  compliment_funny  compliment_writer  \\\n",
       "0               844              467               467                239   \n",
       "1              7054             3131              3131               1521   \n",
       "2                96              119               119                 35   \n",
       "3                16               26                26                 10   \n",
       "4                 1                0                 0                  0   \n",
       "\n",
       "   compliment_photos  friend_count  \n",
       "0                180         14995  \n",
       "1               1946          4646  \n",
       "2                 18           381  \n",
       "3                  9           131  \n",
       "4                  0            27  \n",
       "\n",
       "[5 rows x 23 columns]"
      ]
     },
     "execution_count": 61,
     "metadata": {},
     "output_type": "execute_result"
    }
   ],
   "source": [
    "df.head()"
   ]
  },
  {
   "cell_type": "code",
   "execution_count": 14,
   "id": "80427511",
   "metadata": {},
   "outputs": [
    {
     "data": {
      "text/plain": [
       "user_id                                          j14WgRoU_-2ZE1aw1dXrJg\n",
       "name                                                             Daniel\n",
       "review_count                                                       4333\n",
       "yelping_since                                       2009-01-25 04:35:42\n",
       "useful                                                            43091\n",
       "funny                                                             13066\n",
       "cool                                                              27281\n",
       "elite                 2009,2010,2011,2012,2013,2014,2015,2016,2017,2...\n",
       "friends               ueRPE0CX75ePGMqOFVj6IQ, 52oH4DrRvzzl8wh5UXyU0A...\n",
       "fans                                                               3138\n",
       "average_stars                                                      3.74\n",
       "compliment_hot                                                     1145\n",
       "compliment_more                                                     264\n",
       "compliment_profile                                                  184\n",
       "compliment_cute                                                     157\n",
       "compliment_list                                                     251\n",
       "compliment_note                                                    1847\n",
       "compliment_plain                                                   7054\n",
       "compliment_cool                                                    3131\n",
       "compliment_funny                                                   3131\n",
       "compliment_writer                                                  1521\n",
       "compliment_photos                                                  1946\n",
       "Name: 1, dtype: object"
      ]
     },
     "execution_count": 14,
     "metadata": {},
     "output_type": "execute_result"
    }
   ],
   "source": [
    "df.iloc[1]"
   ]
  },
  {
   "cell_type": "markdown",
   "id": "c7b3f32c",
   "metadata": {},
   "source": [
    "## Explore the data for constructing networks."
   ]
  },
  {
   "cell_type": "code",
   "execution_count": 87,
   "id": "a995005f",
   "metadata": {},
   "outputs": [],
   "source": [
    "## Increase the count of friends as a column in the dataset for selecting users to construct ego-networks.\n",
    "\n",
    "friend_count = [0 for _ in range(len(df))]\n",
    "for i in range(len(df)):\n",
    "    friend_count[i] = len(df.loc[i, \"friends\"].split(\", \"))\n",
    "    \n",
    "friend_count = pd.DataFrame(friend_count)\n",
    "df['friend_count'] = friend_count\n"
   ]
  },
  {
   "cell_type": "code",
   "execution_count": 92,
   "id": "53c0e76e",
   "metadata": {},
   "outputs": [
    {
     "data": {
      "text/plain": [
       "0     14995\n",
       "1      4646\n",
       "2       381\n",
       "3       131\n",
       "4        27\n",
       "5      5843\n",
       "6        23\n",
       "7        82\n",
       "8       488\n",
       "9        64\n",
       "10      241\n",
       "11      356\n",
       "12      154\n",
       "13       64\n",
       "14       14\n",
       "15      187\n",
       "16       13\n",
       "17       84\n",
       "18      487\n",
       "19      133\n",
       "Name: friend_count, dtype: int64"
      ]
     },
     "execution_count": 92,
     "metadata": {},
     "output_type": "execute_result"
    }
   ],
   "source": [
    "df['friend_count'][0:20]"
   ]
  },
  {
   "cell_type": "code",
   "execution_count": 89,
   "id": "9b382c4a",
   "metadata": {
    "scrolled": true
   },
   "outputs": [],
   "source": [
    "# Records all the users in the dataset in a list\n",
    "user_all = df['user_id'].tolist()"
   ]
  },
  {
   "cell_type": "code",
   "execution_count": 88,
   "id": "cfd8b8b5",
   "metadata": {
    "scrolled": true
   },
   "outputs": [
    {
     "data": {
      "image/png": "[encoded data removed]",
      "text/plain": [
       "<Figure size 432x288 with 1 Axes>"
      ]
     },
     "metadata": {
      "needs_background": "light"
     },
     "output_type": "display_data"
    }
   ],
   "source": [
    "# Explore the distribution of the frienscount\n",
    "df['friend_count'].plot.box();"
   ]
  },
  {
   "cell_type": "code",
   "execution_count": 93,
   "id": "a23cec71",
   "metadata": {},
   "outputs": [
    {
     "name": "stdout",
     "output_type": "stream",
     "text": [
      "131\n",
      "5843\n",
      "23\n",
      "82\n",
      "488\n"
     ]
    }
   ],
   "source": [
    "# Combined with the distribution of friends count, select 5 users as starting nodes in ego-networks.\n",
    "for i in [3,5,6,7,8]:\n",
    "    print(df.iloc[i]['friend_count'])"
   ]
  },
  {
   "cell_type": "markdown",
   "id": "f6adbe3f",
   "metadata": {},
   "source": [
    "## Construct Ego-networks"
   ]
  },
  {
   "cell_type": "code",
   "execution_count": 25,
   "id": "ecec2f4a",
   "metadata": {},
   "outputs": [],
   "source": [
    "def get_friends(i,filename):\n",
    "    '''\n",
    "    Input:\n",
    "        i: the ith user in the yelp user dataset\n",
    "        filename: the name of output file (\"edge_yelp_ui.csv\")\n",
    "    Output:\n",
    "        a csv file of edge\n",
    "    '''\n",
    "   \n",
    "        \n",
    "    # enlarge the circle from no.i user\n",
    "    w = csv.writer(open(filename, \"w\"))\n",
    "\n",
    "    # the first layer\n",
    "    user1 = df.iloc[i]['user_id']\n",
    "    lst1_friends = df.iloc[i]['friends'].split(\", \")\n",
    "    if len(lst1_friends)>100:\n",
    "        for f1 in lst1_friends[0:100]:\n",
    "            if f1 in user_all:\n",
    "        #         print((user1,f1))\n",
    "                with open(filename,'a') as cfa:\n",
    "                    wf = csv.writer(cfa)\n",
    "                    wf.writerow([user1, f1])\n",
    "    if len(lst1_friends)<=100:\n",
    "        for f1 in lst1_friends:\n",
    "            if f1 in user_all:\n",
    "        #         print((user1,f1))\n",
    "                with open(filename,'a') as cfa:\n",
    "                    wf = csv.writer(cfa)\n",
    "                    wf.writerow([user1, f1])\n",
    "\n",
    "\n",
    "\n",
    "    for f1 in lst1_friends[0:100]:\n",
    "        if f1 in user_all:\n",
    "            lst2_friends = df[df['user_id']==f1]['friends'].tolist()[0].split(\", \")         \n",
    "            if len(lst2_friends)>100:\n",
    "                for f2 in lst2_friends[0:100]:\n",
    "                    if f2 in user_all:\n",
    "        #                 print((f1,f2))\n",
    "                        with open(filename,'a') as cfa:\n",
    "                            wf = csv.writer(cfa)\n",
    "                            wf.writerow([f1,f2])\n",
    "            if len(lst2_friends)<=100:\n",
    "                for f2 in lst2_friends:\n",
    "                    if f2 in user_all:\n",
    "        #                 print((f1,f2))\n",
    "                        with open(filename,'a') as cfa:\n",
    "                            wf = csv.writer(cfa)\n",
    "                            wf.writerow([f1,f2])\n",
    "\n",
    "    for f2 in lst2_friends[0:100]:\n",
    "        if f2 in user_all:\n",
    "            lst3_friends = df[df['user_id']==f2]['friends'].tolist()[0].split(\", \")\n",
    "            if len(lst3_friends)>100:\n",
    "                for f3 in lst3_friends[0:100]:\n",
    "                    if f3 in user_all:\n",
    "        #                 print((f2,f3))\n",
    "                        with open(filename,'a') as cfa:\n",
    "                            wf = csv.writer(cfa)\n",
    "                            wf.writerow([f2, f3])\n",
    "            if len(lst3_friends)<=100:\n",
    "                for f3 in lst3_friends:\n",
    "                    if f3 in user_all:\n",
    "        #                 print((f2,f3))\n",
    "                        with open(filename,'a') as cfa:\n",
    "                            wf = csv.writer(cfa)\n",
    "                            wf.writerow([f2, f3])\n",
    "            "
   ]
  },
  {
   "cell_type": "code",
   "execution_count": 35,
   "id": "dbe3e382",
   "metadata": {},
   "outputs": [],
   "source": [
    "def attribute(filename_in, filename_out):\n",
    "    '''\n",
    "    Input:\n",
    "        filename_in: the name of file records the edge (\"edge_yelp_ui.csv\")\n",
    "        filename_out: the name of file records the edge (\"attribute_yelp_ui.csv\")\n",
    "    Output:\n",
    "        a csv file of attribute\n",
    "    '''\n",
    "    edge_df = pd.read_csv(filename_in)\n",
    "    all_id=[]\n",
    "    for i in range(len(edge_df)):\n",
    "        if edge_df.iloc[i]['Node1'] not in all_id:\n",
    "            all_id.append(edge_df.iloc[i]['Node1'])\n",
    "        if edge_df.iloc[i]['Node2'] not in all_id:\n",
    "            all_id.append(edge_df.iloc[i]['Node2'])\n",
    "    lst_count=[]\n",
    "    lst_star=[]\n",
    "    lst_friend=[]\n",
    "    for i in all_id:\n",
    "        lst_count.extend(df[df['user_id']==i]['review_count'].tolist())\n",
    "        lst_star.extend(df[df['user_id']==i]['average_stars'].tolist())\n",
    "        lst_friend.extend(df[df['user_id']==i]['friend_count'].tolist())\n",
    "    w = csv.writer(open(filename_out, \"w\"))\n",
    "    for i in range(len(lst_count)):\n",
    "        w.writerow([all_id[i], lst_count[i],lst_star[i],lst_friend[i]])\n",
    "    "
   ]
  },
  {
   "cell_type": "code",
   "execution_count": 59,
   "id": "991a24b9",
   "metadata": {},
   "outputs": [],
   "source": [
    "get_friends(3,\"edge_yelp_u3.csv\")"
   ]
  },
  {
   "cell_type": "code",
   "execution_count": 50,
   "id": "d86ae5de",
   "metadata": {},
   "outputs": [],
   "source": [
    "get_friends(5,\"edge_yelp_u5.csv\")"
   ]
  },
  {
   "cell_type": "code",
   "execution_count": 53,
   "id": "3c59fd83",
   "metadata": {},
   "outputs": [],
   "source": [
    "get_friends(6,\"edge_yelp_u6.csv\")"
   ]
  },
  {
   "cell_type": "code",
   "execution_count": 54,
   "id": "29f3df44",
   "metadata": {},
   "outputs": [],
   "source": [
    "get_friends(7,\"edge_yelp_u7.csv\")"
   ]
  },
  {
   "cell_type": "code",
   "execution_count": 62,
   "id": "e5a497bb",
   "metadata": {},
   "outputs": [],
   "source": [
    "get_friends(8,\"edge_yelp_u8.csv\")"
   ]
  },
  {
   "cell_type": "markdown",
   "id": "0895fd7c",
   "metadata": {},
   "source": [
    "Before obtaining the attribute file, I manually cleaned the output file of edge to remove the garbage"
   ]
  },
  {
   "cell_type": "code",
   "execution_count": 36,
   "id": "70f636ce",
   "metadata": {},
   "outputs": [],
   "source": [
    "attribute(\"edge_yelp_u3.csv\", \"attribute_yelp_u3.csv\")"
   ]
  },
  {
   "cell_type": "code",
   "execution_count": 52,
   "id": "76f7d4be",
   "metadata": {},
   "outputs": [],
   "source": [
    "attribute(\"edge_yelp_u5.csv\", \"attribute_yelp_u5.csv\")"
   ]
  },
  {
   "cell_type": "code",
   "execution_count": 55,
   "id": "7094ad17",
   "metadata": {},
   "outputs": [],
   "source": [
    "attribute(\"edge_yelp_u6.csv\", \"attribute_yelp_u6.csv\")"
   ]
  },
  {
   "cell_type": "code",
   "execution_count": 57,
   "id": "d30362ee",
   "metadata": {},
   "outputs": [],
   "source": [
    "attribute(\"edge_yelp_u7.csv\", \"attribute_yelp_u7.csv\")"
   ]
  },
  {
   "cell_type": "code",
   "execution_count": 64,
   "id": "b86f7ccc",
   "metadata": {},
   "outputs": [],
   "source": [
    "attribute(\"edge_yelp_u8.csv\", \"attribute_yelp_u8.csv\")"
   ]
  },
  {
   "cell_type": "code",
   "execution_count": null,
   "id": "823ff1f7",
   "metadata": {},
   "outputs": [],
   "source": []
  }
 ],
 "metadata": {
  "kernelspec": {
   "display_name": "Python 3",
   "language": "python",
   "name": "python3"
  },
  "language_info": {
   "codemirror_mode": {
    "name": "ipython",
    "version": 3
   },
   "file_extension": ".py",
   "mimetype": "text/x-python",
   "name": "python",
   "nbconvert_exporter": "python",
   "pygments_lexer": "ipython3",
   "version": "3.8.8"
  }
 },
 "nbformat": 4,
 "nbformat_minor": 5
}
